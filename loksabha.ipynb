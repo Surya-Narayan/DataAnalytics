{
 "cells": [
  {
   "cell_type": "code",
   "execution_count": 1,
   "metadata": {},
   "outputs": [],
   "source": [
    "import matplotlib.pyplot as plt\n",
    "import numpy as np\n",
    "from scipy.stats import norm\n",
    "import math\n",
    "import matplotlib.pyplot as plt\n",
    "import statistics as stat\n",
    "import pandas as pd\n",
    "import seaborn as sns\n",
    "\n",
    "df = pd.read_csv('C:/Mine/3rd Year/5th Semester/2019_Results.csv',encoding='ISO-8859-1')\n",
    "df.head()  #displays first 5 rows\n",
    "\n",
    "res = pd.read_csv('C:/Mine/3rd Year/5th Semester/2019_Results_Winning_Candidate.csv',encoding='ISO-8859-1')\n",
    "#df\n",
    "#df.tail()    #displays last 5 rows\n",
    "#df.describe()   #Provides summary measures for variables of type : int or float\n",
    "#df.dtypes  #displays type of each variable\n",
    "#df.columns  #displays variable names aka. Column name\n",
    "#df.columns[0]  #displays 1st column name"
   ]
  },
  {
   "cell_type": "code",
   "execution_count": 3,
   "metadata": {},
   "outputs": [
    {
     "name": "stdout",
     "output_type": "stream",
     "text": [
      "Mean  O.S.N.             11.539566\n",
      "EVM Votes       71291.165149\n",
      "Postal Votes      268.097572\n",
      "Total Votes     71560.842670\n",
      "% of Votes          6.325891\n",
      "dtype: float64\n"
     ]
    }
   ],
   "source": [
    "print('Mean ', np.mean(df))"
   ]
  },
  {
   "cell_type": "code",
   "execution_count": 14,
   "metadata": {},
   "outputs": [
    {
     "data": {
      "image/png": "[encoded data removed]",
      "text/plain": [
       "<Figure size 432x288 with 1 Axes>"
      ]
     },
     "metadata": {},
     "output_type": "display_data"
    }
   ],
   "source": [
    "party_list = df['Party'].value_counts()\n",
    "#print(party_list['Dravida Munnetra Kazhagam']) \n",
    "#print(type(party_list))\n",
    "#print(party_list.index)\n",
    "majorparties = []\n",
    "majorpartiesfreq = []\n",
    "\n",
    "partywinlist = res['Party'].value_counts()\n",
    "#print(partywinlist)\n",
    "\n",
    "majorparties.append('Bharatiya Janata \\nParty')\n",
    "majorparties.append('Indian National \\nCongress')\n",
    "majorparties.append('Dravida Munnetra \\nKazhagam')\n",
    "majorparties.append('All India Trinamool \\nCongress')\n",
    "majorparties.append('Yuvajana Sramika \\nParty')\n",
    "majorparties.append('Shivsena')\n",
    "\n",
    "majorpartiesfreq.append(party_list['Bharatiya Janata Party'])\n",
    "majorpartiesfreq.append(party_list['Indian National Congress'])\n",
    "majorpartiesfreq.append(party_list['Dravida Munnetra Kazhagam'])\n",
    "majorpartiesfreq.append(party_list['All India Trinamool Congress'])\n",
    "majorpartiesfreq.append(party_list['Yuvajana Sramika Rythu Congress Party'])\n",
    "majorpartiesfreq.append(party_list['Shivsena'])\n",
    "\n",
    "\n",
    "#print(majorparties)\n",
    "#print(majorpartiesfreq)\n",
    "\n",
    "majorpartywinlist = []\n",
    "\n",
    "majorpartywinlist.append(partywinlist['Bharatiya Janata Party'])\n",
    "majorpartywinlist.append(partywinlist['Indian National Congress'])\n",
    "majorpartywinlist.append(partywinlist['Dravida Munnetra Kazhagam'])\n",
    "majorpartywinlist.append(partywinlist['All India Trinamool Congress'])\n",
    "majorpartywinlist.append(partywinlist['Yuvajana Sramika Rythu Congress Party'])\n",
    "majorpartywinlist.append(partywinlist['Shivsena'])\n",
    "\n",
    "legend = [\"Contested\",\"Won\"]\n",
    "index = np.arange(len(majorparties))\n",
    "plt.bar(index, majorpartiesfreq , width=0.5)\n",
    "plt.bar(index, majorpartywinlist ,width=0.5)\n",
    "plt.xlabel('Party', fontsize=7)\n",
    "plt.ylabel('Number of Contestants', fontsize=7)\n",
    "plt.xticks(index, majorparties, fontsize=8, rotation=10)\n",
    "plt.legend(legend,loc=1)\n",
    "plt.show()\n"
   ]
  },
  {
   "cell_type": "code",
   "execution_count": null,
   "metadata": {},
   "outputs": [],
   "source": []
  },
  {
   "cell_type": "code",
   "execution_count": null,
   "metadata": {},
   "outputs": [],
   "source": []
  }
 ],
 "metadata": {
  "kernelspec": {
   "display_name": "Python 3",
   "language": "python",
   "name": "python3"
  },
  "language_info": {
   "codemirror_mode": {
    "name": "ipython",
    "version": 3
   },
   "file_extension": ".py",
   "mimetype": "text/x-python",
   "name": "python",
   "nbconvert_exporter": "python",
   "pygments_lexer": "ipython3",
   "version": "3.6.8"
  }
 },
 "nbformat": 4,
 "nbformat_minor": 2
}
