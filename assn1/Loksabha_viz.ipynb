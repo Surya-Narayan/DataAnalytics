{
 "cells": [
  {
   "cell_type": "code",
   "execution_count": 4,
   "metadata": {},
   "outputs": [
    {
     "name": "stderr",
     "output_type": "stream",
     "text": [
      "'c' argument looks like a single numeric RGB or RGBA sequence, which should be avoided as value-mapping will have precedence in case its length matches with 'x' & 'y'.  Please use a 2-D array with a single row if you really want to specify the same RGB or RGBA value for all points.\n"
     ]
    },
    {
     "name": "stdout",
     "output_type": "stream",
     "text": [
      "Scatter Plot:Criminal Case vs. Age\n"
     ]
    },
    {
     "ename": "ValueError",
     "evalue": "The truth value of a Series is ambiguous. Use a.empty, a.bool(), a.item(), a.any() or a.all().",
     "output_type": "error",
     "traceback": [
      "\u001b[1;31m---------------------------------------------------------------------------\u001b[0m",
      "\u001b[1;31mValueError\u001b[0m                                Traceback (most recent call last)",
      "\u001b[1;32m<ipython-input-4-f02fe0e0aa5b>\u001b[0m in \u001b[0;36m<module>\u001b[1;34m\u001b[0m\n\u001b[0;32m     14\u001b[0m \u001b[0msorted_data\u001b[0m \u001b[1;33m=\u001b[0m \u001b[0mdata\u001b[0m\u001b[1;33m.\u001b[0m\u001b[0msort_values\u001b[0m\u001b[1;33m(\u001b[0m\u001b[1;34m\"Age\"\u001b[0m\u001b[1;33m)\u001b[0m\u001b[1;33m\u001b[0m\u001b[1;33m\u001b[0m\u001b[0m\n\u001b[0;32m     15\u001b[0m \u001b[1;33m\u001b[0m\u001b[0m\n\u001b[1;32m---> 16\u001b[1;33m \u001b[0msorted_data_clean\u001b[0m \u001b[1;33m=\u001b[0m \u001b[0msorted_data\u001b[0m\u001b[1;33m[\u001b[0m\u001b[0msorted_data\u001b[0m\u001b[1;33m[\u001b[0m\u001b[1;34m\"Age\"\u001b[0m\u001b[1;33m]\u001b[0m\u001b[1;33m>=\u001b[0m\u001b[1;36m18\u001b[0m \u001b[1;32mor\u001b[0m \u001b[0msorted_data\u001b[0m\u001b[1;33m[\u001b[0m\u001b[1;34m\"Age\"\u001b[0m\u001b[1;33m]\u001b[0m\u001b[1;33m!=\u001b[0m\u001b[0mNaN\u001b[0m \u001b[1;33m]\u001b[0m\u001b[1;33m\u001b[0m\u001b[1;33m\u001b[0m\u001b[0m\n\u001b[0m\u001b[0;32m     17\u001b[0m \u001b[0mprint\u001b[0m\u001b[1;33m(\u001b[0m\u001b[0msorted_data_clean\u001b[0m\u001b[1;33m[\u001b[0m\u001b[1;33m[\u001b[0m\u001b[1;34m'Age'\u001b[0m\u001b[1;33m,\u001b[0m\u001b[1;34m'Candidate'\u001b[0m\u001b[1;33m]\u001b[0m\u001b[1;33m]\u001b[0m\u001b[1;33m)\u001b[0m\u001b[1;33m\u001b[0m\u001b[1;33m\u001b[0m\u001b[0m\n\u001b[0;32m     18\u001b[0m \u001b[1;33m\u001b[0m\u001b[0m\n",
      "\u001b[1;32m~\\Anaconda3\\lib\\site-packages\\pandas\\core\\generic.py\u001b[0m in \u001b[0;36m__nonzero__\u001b[1;34m(self)\u001b[0m\n\u001b[0;32m   1476\u001b[0m         raise ValueError(\"The truth value of a {0} is ambiguous. \"\n\u001b[0;32m   1477\u001b[0m                          \u001b[1;34m\"Use a.empty, a.bool(), a.item(), a.any() or a.all().\"\u001b[0m\u001b[1;33m\u001b[0m\u001b[1;33m\u001b[0m\u001b[0m\n\u001b[1;32m-> 1478\u001b[1;33m                          .format(self.__class__.__name__))\n\u001b[0m\u001b[0;32m   1479\u001b[0m \u001b[1;33m\u001b[0m\u001b[0m\n\u001b[0;32m   1480\u001b[0m     \u001b[0m__bool__\u001b[0m \u001b[1;33m=\u001b[0m \u001b[0m__nonzero__\u001b[0m\u001b[1;33m\u001b[0m\u001b[1;33m\u001b[0m\u001b[0m\n",
      "\u001b[1;31mValueError\u001b[0m: The truth value of a Series is ambiguous. Use a.empty, a.bool(), a.item(), a.any() or a.all()."
     ]
    },
    {
     "data": {
      "image/png": "[encoded data removed]",
      "text/plain": [
       "<Figure size 432x288 with 1 Axes>"
      ]
     },
     "metadata": {},
     "output_type": "display_data"
    }
   ],
   "source": [
    "import pandas as pd\n",
    "import matplotlib.pyplot as plt\n",
    "import seaborn as sns\n",
    "sns.set()\n",
    "\n",
    "\n",
    "data = pd.read_csv(\"Dataset/loksabha.csv\")\n",
    "\n",
    "#print(data[['Age','Candidate']])\n",
    "print(\"Scatter Plot:Criminal Case vs. Age\")\n",
    "x1 = data.plot.scatter(x='Criminal_Case',y='Age')\n",
    "#print(\"Scatter Plot: Candidate vs. Age\")\n",
    "\n",
    "sorted_data = data.sort_values(\"Age\")\n",
    "\n",
    "sorted_data_clean = sorted_data[sorted_data[\"Age\"]>=18 or sorted_data[\"Age\"]!=NaN ]\n",
    "print(sorted_data_clean[['Age','Candidate']])\n",
    "\n",
    "ax = sorted_data_clean.plot.bar(x=sorted_data_clean['Candidate'], y=sorted_data_clean['Age'], rot=0)"
   ]
  },
  {
   "cell_type": "code",
   "execution_count": 4,
   "metadata": {},
   "outputs": [
    {
     "name": "stdout",
     "output_type": "stream",
     "text": [
      "Scatter Plot:Criminal Case vs. Age\n",
      "      Age                              Candidate\n",
      "2154   24                            Ponnuthai G\n",
      "6035   25                          Pankaj Ranjan\n",
      "212    25                          Rupali Biswas\n",
      "4793   25                Ramesh Ramkisan Gavhane\n",
      "1564   25                           Rinku Sahani\n",
      "1970   25                           Yedla Suresh\n",
      "3704   25                                  Aditi\n",
      "5312   25                       Aswathi Rajappan\n",
      "3759   25                     Vikash Kumar Mohal\n",
      "7017   25                        Lalan Kumar Roy\n",
      "5996   25                            Ramesh Tudu\n",
      "7140   25                              Asha Devi\n",
      "3107   25                              Mohan Lal\n",
      "6388   25                     Kaka Sahil Thakral\n",
      "4990   25                           Aakash Birla\n",
      "2179   25                          Alexpandian S\n",
      "4894   25                          Bhoopat Kumar\n",
      "7227   25                            Shekh Seraj\n",
      "7387   25                    Rajeev Ranjan Kumar\n",
      "4840   25                           Nilesh Damor\n",
      "5126   25                       Abhishek Bilhore\n",
      "2768   25                             N.Karthick\n",
      "3083   25                           Prince Kumar\n",
      "4099   25                   Ajay Karamsing Gavit\n",
      "6006   25                         Ashutosh Kumar\n",
      "2856   25                          S. Prithviraj\n",
      "7157   25                       Geetanjali Singh\n",
      "7154   25                         Hori Lal Anant\n",
      "7147   25                           Anurag Singh\n",
      "1036   25                      Bhishm Jeet Singh\n",
      "...   ...                                    ...\n",
      "2971   78                              Kika Mina\n",
      "1015   79                    Mulayam Singh Yadav\n",
      "4170   79                 Eknath Mahadev Gaikwad\n",
      "645    79                          Md. Ezaruddin\n",
      "3403   79                       Mohammad Sadique\n",
      "5609   79                       M.Veerappa Moily\n",
      "6518   79                     Kolipatel Somabhai\n",
      "4913   80                          Bajuddeen Baj\n",
      "7601   80                         Shiv Das Singh\n",
      "2737   80  Arimalam Thiagi.Subramanian Muthuraja\n",
      "355    80                  Choudhury Mohan Jatua\n",
      "5521   80                           Srinivasaiah\n",
      "922    81                               Ram Nath\n",
      "7428   81                      Shivnandan Mandal\n",
      "3770   81                         Sheila Dikshit\n",
      "1017   81                         Hariram Shakya\n",
      "5966   82                            K. Rangaiah\n",
      "2412   82                     Thirunavukkarasu R\n",
      "2385   82                         Krithivasan. S\n",
      "3284   82                        Charanjit Singh\n",
      "4731   82                       Ramkumar Jaysval\n",
      "6054   83                        Farooq Abdullah\n",
      "3673   83                   K. Shyambabu Subudhi\n",
      "3654   83                   K. Shyambabu Subudhi\n",
      "5833   85                    Lakshmanarav Melage\n",
      "4847   86                      Surajsingh Kaliya\n",
      "780    86               Dr. Shafiqur Rehman Barq\n",
      "5420   86                        H. D. Devegowda\n",
      "3971   87               Sameer Arunrao Deshpande\n",
      "2419   90                               Alagar P\n",
      "\n",
      "[7894 rows x 2 columns]\n",
      "Age Frequency Distribution\n"
     ]
    },
    {
     "data": {
      "image/png": "[encoded data removed]",
      "text/plain": [
       "<Figure size 432x288 with 1 Axes>"
      ]
     },
     "metadata": {},
     "output_type": "display_data"
    }
   ],
   "source": [
    "import pandas as pd\n",
    "import matplotlib.pyplot as plt\n",
    "import seaborn as sns\n",
    "sns.set()\n",
    "\n",
    "\n",
    "data = pd.read_csv(\"Dataset/loksabha.csv\")\n",
    "\n",
    "#print(data[['Age','Candidate']])\n",
    "print(\"Scatter Plot:Criminal Case vs. Age\")\n",
    "#x1 = data.plot.scatter(x='Criminal_Case',y='Age')\n",
    "#print(\"Scatter Plot: Candidate vs. Age\")\n",
    "\n",
    "sorted_data = data.sort_values(\"Age\")\n",
    "\n",
    "sorted_data_clean = sorted_data[sorted_data[\"Age\"]>=18  ]\n",
    "print(sorted_data_clean[['Age','Candidate']])\n",
    "print(\"Age Frequency Distribution\")\n",
    "hist = sorted_data_clean[\"Age\"].hist()"
   ]
  },
  {
   "cell_type": "code",
   "execution_count": null,
   "metadata": {},
   "outputs": [],
   "source": []
  }
 ],
 "metadata": {
  "kernelspec": {
   "display_name": "Python 3",
   "language": "python",
   "name": "python3"
  },
  "language_info": {
   "codemirror_mode": {
    "name": "ipython",
    "version": 3
   },
   "file_extension": ".py",
   "mimetype": "text/x-python",
   "name": "python",
   "nbconvert_exporter": "python",
   "pygments_lexer": "ipython3",
   "version": "3.7.3"
  }
 },
 "nbformat": 4,
 "nbformat_minor": 2
}
