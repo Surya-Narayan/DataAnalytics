{
 "cells": [
  {
   "cell_type": "code",
   "execution_count": 4,
   "metadata": {},
   "outputs": [],
   "source": [
    "import matplotlib.pyplot as plt\n",
    "import pandas as pd\n",
    "import numpy as np\n",
    "import seaborn as sns\n",
    "import statistics as st"
   ]
  },
  {
   "cell_type": "code",
   "execution_count": 6,
   "metadata": {},
   "outputs": [
    {
     "name": "stdout",
     "output_type": "stream",
     "text": [
      "<class 'pandas.core.frame.DataFrame'>\n"
     ]
    }
   ],
   "source": [
    "res = pd.read_csv('C:/Mine/3rd Year/5th Semester/2019_Results_Winning_Candidate.csv',encoding='ISO-8859-1')\n",
    "res.head()\n",
    "print(type(res))"
   ]
  },
  {
   "cell_type": "code",
   "execution_count": 7,
   "metadata": {},
   "outputs": [
    {
     "data": {
      "text/plain": [
       "array(['Indian National Congress',\n",
       "       'Yuvajana Sramika Rythu Congress Party', 'Telugu Desam',\n",
       "       'Bharatiya Janata Party', 'All India United Democratic Front',\n",
       "       'Independent', 'Janata Dal (United)', 'Lok Jan Shakti Party',\n",
       "       'Jammu & Kashmir National Conference', 'AJSU Party',\n",
       "       'Jharkhand Mukti Morcha', 'Janata Dal (Secular)',\n",
       "       'Communist Party of India (Marxist)',\n",
       "       'Revolutionary Socialist Party', 'Kerala Congress (M)',\n",
       "       'Indian Union Muslim League', 'Nationalist Congress Party',\n",
       "       'All India Majlis-E-Ittehadul Muslimeen', 'Shivsena',\n",
       "       'Naga Peoples Front', \"National People's Party\",\n",
       "       'Mizo National Front', 'Nationalist Democratic Progressive Party',\n",
       "       'Biju Janata Dal', 'Shiromani Akali Dal', 'Aam Aadmi Party',\n",
       "       'Rashtriya Loktantrik Party', 'Sikkim Krantikari Morcha',\n",
       "       'Dravida Munnetra Kazhagam', 'Viduthalai Chiruthaigal Katchi',\n",
       "       'Communist Party of India',\n",
       "       'All India Anna Dravida Munnetra Kazhagam',\n",
       "       'Telangana Rashtra Samithi', 'Bahujan Samaj Party',\n",
       "       'Samajwadi Party', 'Apna Dal (Soneylal)',\n",
       "       'All India Trinamool Congress'], dtype=object)"
      ]
     },
     "execution_count": 7,
     "metadata": {},
     "output_type": "execute_result"
    }
   ],
   "source": [
    "res['Party'].unique()"
   ]
  },
  {
   "cell_type": "code",
   "execution_count": 1,
   "metadata": {},
   "outputs": [
    {
     "ename": "NameError",
     "evalue": "name 'res' is not defined",
     "output_type": "error",
     "traceback": [
      "\u001b[1;31m---------------------------------------------------------------------------\u001b[0m",
      "\u001b[1;31mNameError\u001b[0m                                 Traceback (most recent call last)",
      "\u001b[1;32m<ipython-input-1-24e5550dea43>\u001b[0m in \u001b[0;36m<module>\u001b[1;34m\u001b[0m\n\u001b[1;32m----> 1\u001b[1;33m \u001b[0ms\u001b[0m \u001b[1;33m=\u001b[0m \u001b[0mres\u001b[0m\u001b[1;33m[\u001b[0m\u001b[1;34m'State'\u001b[0m\u001b[1;33m]\u001b[0m\u001b[1;33m\u001b[0m\u001b[0m\n\u001b[0m\u001b[0;32m      2\u001b[0m \u001b[1;31m#print(s)\u001b[0m\u001b[1;33m\u001b[0m\u001b[1;33m\u001b[0m\u001b[0m\n\u001b[0;32m      3\u001b[0m \u001b[0mq\u001b[0m \u001b[1;33m=\u001b[0m \u001b[0mres\u001b[0m\u001b[1;33m[\u001b[0m\u001b[1;34m'Party'\u001b[0m\u001b[1;33m]\u001b[0m\u001b[1;33m\u001b[0m\u001b[0m\n\u001b[0;32m      4\u001b[0m \u001b[1;31m#print(q)\u001b[0m\u001b[1;33m\u001b[0m\u001b[1;33m\u001b[0m\u001b[0m\n\u001b[0;32m      5\u001b[0m \u001b[1;31m#q = s['Karnataka']\u001b[0m\u001b[1;33m\u001b[0m\u001b[1;33m\u001b[0m\u001b[0m\n",
      "\u001b[1;31mNameError\u001b[0m: name 'res' is not defined"
     ]
    }
   ],
   "source": [
    "s = res['State']\n",
    "#print(s)\n",
    "q = res['Party']\n",
    "#print(q)\n",
    "#q = s['Karnataka']\n",
    "#print(q)\n",
    "\n",
    "#x = q.combine_first(s)\n",
    "#rint(x)\n",
    "number= []\n",
    "for i in range(0,541):\n",
    "    if(s[i] == \"Karnataka\"):\n",
    "         number.append(q[i])\n",
    "unique=[]\n",
    "unique=set(number)\n",
    "#print(number)\n",
    "#print(kar)\n",
    "\n",
    "from collections import Counter\n",
    "\n",
    "kar = dict(Counter(number))\n",
    "\n",
    "\n",
    "number1= []\n",
    "for i in range(0,541):\n",
    "    if(s[i] == \"Uttar Pradesh\"):\n",
    "         number1.append(q[i])\n",
    "\n",
    "up = dict(Counter(number1))\n",
    "\n",
    "\n",
    "number2= []\n",
    "for i in range(0,541):\n",
    "    if(s[i] == \"Maharashtra\"):\n",
    "         number2.append(q[i])\n",
    "\n",
    "mh = dict(Counter(number2))\n",
    "\n",
    "\n",
    "\n",
    "number3= []\n",
    "for i in range(0,541):\n",
    "    if(s[i] == \"West Bengal\"):\n",
    "         number3.append(q[i])\n",
    "\n",
    "WB = dict(Counter(number3))\n",
    "\n",
    "number4= []\n",
    "for i in range(0,541):\n",
    "    if(s[i] == \"Bihar\"):\n",
    "         number4.append(q[i])\n",
    "\n",
    "bi = dict(Counter(number4))\n",
    "\n",
    "\n",
    "#print(number.count('Bharatiya Janata Party'))\n",
    "#for i in len(number):\n",
    " #   if(Independent==number[i])\n",
    "\n",
    "karn=list(kar.values())\n",
    "up1=list(up.values()) \n",
    "mh1=list(mh.values())\n",
    "wb1=list(WB.values())\n",
    "bi1=list(bi.values())\n",
    "#print(type(karn[0]))\n",
    "\n",
    "majorparties = []\n",
    "\n",
    "majorparties.append('Bharatiya Janata \\nParty')\n",
    "majorparties.append('Indian National \\nCongress')\n",
    "majorparties.append('Janata Dal (Secular)')\n",
    "majorparties.append('Independent')\n",
    "print(len(karn))\n",
    "print(len(up1))\n",
    "print(len(mh1))\n",
    "index = np.arange(4)\n",
    "plt.bar(index, karn, width=0.5)\n",
    "plt.bar(index,up1,width=0.5 )\n",
    "plt.bar(index,mh1, width=0.5)\n",
    "plt.xlabel('Party', fontsize=7)\n",
    "plt.ylabel('Number of Seats Won', fontsize=7)\n",
    "plt.xticks(index,majorparties , fontsize=8, rotation=10)\n",
    "plt.show()\n",
    "\n",
    "print(kar.keys())\n",
    "\"\"\"\n",
    "print(karn)\n",
    "print(up1)\n",
    "print(mh1)\n",
    "print(wb1)\n",
    "print(bi1)\n",
    "\"\"\""
   ]
  },
  {
   "cell_type": "code",
   "execution_count": null,
   "metadata": {},
   "outputs": [],
   "source": []
  },
  {
   "cell_type": "code",
   "execution_count": null,
   "metadata": {
    "collapsed": true
   },
   "outputs": [],
   "source": []
  }
 ],
 "metadata": {
  "kernelspec": {
   "display_name": "Python 3",
   "language": "python",
   "name": "python3"
  },
  "language_info": {
   "codemirror_mode": {
    "name": "ipython",
    "version": 3
   },
   "file_extension": ".py",
   "mimetype": "text/x-python",
   "name": "python",
   "nbconvert_exporter": "python",
   "pygments_lexer": "ipython3",
   "version": "3.6.3"
  }
 },
 "nbformat": 4,
 "nbformat_minor": 2
}
